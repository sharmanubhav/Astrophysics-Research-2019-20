{
 "cells": [
  {
   "cell_type": "code",
   "execution_count": null,
   "metadata": {},
   "outputs": [],
   "source": [
    "import numpy\n",
    "import math\n",
    "from astropy.io import fits\n",
    "from astropy.table import Table\n",
    "from astropy.stats import median_absolute_deviation\n",
    "from matplotlib.colors import LogNorm\n",
    "from matplotlib import pyplot\n",
    "from astropy.modeling import models, fitting\n",
    "import astropy.constants\n",
    "from astropy.cosmology import FlatLambdaCDM\n",
    "\n",
    "#set up matplotlib\n",
    "import matplotlib.pyplot as plt\n",
    "%matplotlib inline\n"
   ]
  },
  {
   "cell_type": "code",
   "execution_count": null,
   "metadata": {},
   "outputs": [],
   "source": [
    "main_file = fits.open(\"....\", memmap=True)\n",
    "main_table = Table(main_file[1].data)\n",
    "S = num.array(main_table['.....'])    #column name\n"
   ]
  },
  {
   "cell_type": "code",
   "execution_count": null,
   "metadata": {},
   "outputs": [],
   "source": [
    "# Code from Kyle\n",
    "\n",
    "\n",
    "# Open the maps file\n",
    "hdu = fits.open('manga-8138-12704-MAPS-HYB10-MILESHC-MASTARHC.fits.gz')\n",
    "\n",
    "# Get the redshift (should be the same as in the DRPall and DAPall\n",
    "# files)\n",
    "z = hdu[0].header['SCINPVEL']/astropy.constants.c.to('km/s').value\n",
    "\n",
    "# Select the unique bins\n",
    "unique, indx = numpy.unique(hdu['BINID'].data[3,:,:].ravel(), return_index=True)\n",
    "s = 1 if unique[0] == -1 else 0\n",
    "unique = unique[s:]\n",
    "unique_indx = indx[s:]\n",
    "\n",
    "# Get the radius and flux measurements\n",
    "r_re = hdu['SPX_ELLCOO'].data.copy()[1,:,:].ravel()[unique_indx]\n",
    "flux = numpy.ma.MaskedArray(hdu['EMLINE_GFLUX'].data[23,...].copy(),\n",
    "                            mask=hdu['EMLINE_GFLUX_MASK'].data[23,...] > 0).ravel()[unique_indx]\n",
    "\n",
    "# Do the two sums\n",
    "sum_flux_1re = numpy.ma.sum(flux[r_re < 1])\n",
    "sum_flux_tot = numpy.ma.sum(flux)\n",
    "\n",
    "# Calculate the luminosity distance (in Mpc)\n",
    "h = 1.0\n",
    "H0 = 100 * h * astropy.units.km / astropy.units.s / astropy.units.Mpc\n",
    "cosmo = FlatLambdaCDM(H0=H0, Om0=0.3)\n",
    "ldist = cosmo.luminosity_distance(z).value\n",
    "\n",
    "log_Mpc_in_cm = numpy.log10(astropy.constants.pc.to('cm').value) + 6\n",
    "# L (H-alpha) = 4 pi D^2 F\n",
    "#   - F is in 1e-17 erg/s/cm^2\n",
    "#   - D is in Mpc\n",
    "#   - L (H-alpha) is in erg/s\n",
    "log_halpha_luminosity_1re = numpy.log10(4*numpy.pi) + numpy.log10(sum_flux_1re) \\\n",
    "                                - 17 + 2*numpy.log10(ldist) + 2*log_Mpc_in_cm\n",
    "# From Kennicutt & Evans (2012, ARAA, 50, 531; Table 1)\n",
    "sfr_1re = numpy.power(10, log_halpha_luminosity_1re - 41.27)\n",
    "\n",
    "log_halpha_luminosity_tot = numpy.log10(4*numpy.pi) + numpy.log10(sum_flux_tot) \\\n",
    "                                - 17 + 2*numpy.log10(ldist) + 2*log_Mpc_in_cm\n",
    "sfr_tot = numpy.power(10, log_halpha_luminosity_tot - 41.27)\n",
    "\n",
    "hdu = fits.open('dapall-v2_7_1-2.4.1.fits')\n",
    "indx = numpy.where((hdu[1].data['PLATEIFU'] == '8138-12704')\n",
    "                    & (hdu[1].data['DAPTYPE'] == 'HYB10-MILESHC-MASTARHC'))[0][0]\n",
    "print(sfr_1re)\n",
    "print(hdu[1].data['SFR_1RE'][indx])\n",
    "\n",
    "print(sfr_tot)\n",
    "print(hdu[1].data['SFR_TOT'][indx])"
   ]
  },
  {
   "cell_type": "code",
   "execution_count": null,
   "metadata": {},
   "outputs": [],
   "source": [
    "# Sebastian Formula\n",
    "\n",
    "H0= 71.0\n",
    "matter = 0.27\n",
    "_lambda = 0.73 \n",
    "\n",
    "SFR= L_Ha * 0.8 * 10 ** -41  # cgs units.\n",
    "\n"
   ]
  },
  {
   "cell_type": "code",
   "execution_count": null,
   "metadata": {},
   "outputs": [],
   "source": []
  }
 ],
 "metadata": {
  "kernelspec": {
   "display_name": "python-3.6.8",
   "language": "python",
   "name": "python-3.6.8"
  },
  "language_info": {
   "codemirror_mode": {
    "name": "ipython",
    "version": 3
   },
   "file_extension": ".py",
   "mimetype": "text/x-python",
   "name": "python",
   "nbconvert_exporter": "python",
   "pygments_lexer": "ipython3",
   "version": "3.6.8"
  }
 },
 "nbformat": 4,
 "nbformat_minor": 2
}
