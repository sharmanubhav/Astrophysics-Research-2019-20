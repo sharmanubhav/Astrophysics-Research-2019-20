{
 "cells": [
  {
   "cell_type": "code",
   "execution_count": 24,
   "metadata": {},
   "outputs": [],
   "source": [
    "import numpy\n",
    "import math\n",
    "from astropy.io import fits\n",
    "from astropy.table import Table\n",
    "from matplotlib.colors import LogNorm\n",
    "from astropy.modeling import models, fitting\n",
    "\n",
    "#set up matplotlib\n",
    "import matplotlib.pyplot as plt\n",
    "%matplotlib inline"
   ]
  },
  {
   "cell_type": "code",
   "execution_count": 25,
   "metadata": {},
   "outputs": [],
   "source": [
    "WISE = fits.open(\"MPL8-all_WISE.fits\", memmap=True)\n",
    "WISE_table = Table(WISE[1].data)\n",
    "HI_WISE = fits.open(\"HI_WISE.fits\", memmap=True)\n",
    "HI_WISE_table = Table(HI_WISE[1].data)\n"
   ]
  },
  {
   "cell_type": "code",
   "execution_count": 32,
   "metadata": {},
   "outputs": [
    {
     "name": "stdout",
     "output_type": "stream",
     "text": [
      "2181\n",
      "552\n",
      "1380\n",
      "283\n"
     ]
    }
   ],
   "source": [
    "W2_matched = numpy.array(HI_WISE_table['W2mag'])  # Stores all data of W2 in WISE galaxies matched in HI\n",
    "W3_matched = numpy.array(HI_WISE_table['W3mag'])  # Stores all data of W3 in WISE galaxies matched in HI\n",
    "\n",
    "#---------------------------------------------- For different selectors\n",
    "# W2_initial = numpy.array(HI_WISE_table['W2mag'])  # Stores all data of W2 in WISE galaxies matched in HI\n",
    "# W3_initial = numpy.array(HI_WISE_table['W3mag'])  # Stores all data of W3 in WISE galaxies matched in HI\n",
    "\n",
    "# Flagall_initial = numpy.array(HI_WISE_table['conflag'])   # All Flag data \n",
    "# MHI_log_initial = numpy.array(HI_WISE_table['LOGMHI'])  # Stores all data of MHI log(Msun)\n",
    "\n",
    "# W2diffW3 = W2_initial - W3_initial \n",
    "\n",
    "# lowSFR = numpy.where(W2diffW3 < 2.0)\n",
    "\n",
    "# MHI_log = MHI_log_initial[lowSFR]                  # HI Mass log(Msun)\n",
    "# W2 = W2_initial[lowSFR]\n",
    "# W3 = W3_initial[lowSFR]\n",
    "# Plateifu = Plateifu_initial[lowSFR]\n",
    "# Flagall = Flagall_initial[lowSFR]\n",
    "\n",
    "# print(len(W2_initial))\n",
    "# print(len(W2))\n",
    "# print(len(W2[numpy.where((Flagall == 0) & (MHI_log > 0))]))\n",
    "#-------------------------------------------------\n",
    "\n",
    "\n",
    "\n",
    "#Diagnosis for number of samples. Not required for histogram\n",
    "# HI_Pipe3D_WISE = fits.open(\"HI_Pipe3D_WISE.fits\", memmap=True)\n",
    "# HI_Pipe3D_WISE_table = Table(HI_Pipe3D_WISE[1].data)\n",
    "# Plateifu1 = numpy.array(HI_WISE_table['PLATEIFU'])\n",
    "# Plateifu2 = numpy.array(HI_Pipe3D_WISE_table['PLATEIFU_2'])\n",
    "# print(len(Plateifu1), len(Plateifu2))\n",
    "# not_matched = [x for x in Plateifu2 if x not in Plateifu1]\n",
    "# print(len(not_matched))\n",
    "\n",
    "#---------------------------\n",
    "\n",
    "W2 = numpy.array(WISE_table['W2mag'])  # Stores all data of W2 in WISE\n",
    "W3 = numpy.array(WISE_table['W3mag'])  # Stores all data of W3 in WISE\n",
    "\n",
    "W2diffW3 = W2 - W3\n",
    "W2diffW3_matched = W2_matched - W3_matched\n",
    "\n",
    "lowSFR_matched = numpy.where(W2diffW3_matched < 2.0)\n",
    "lowSFR = numpy.where(W2diffW3 < 2.0)\n",
    "\n",
    "\n",
    "print(len(W2diffW3))\n",
    "print(len(W2diffW3[lowSFR]))\n",
    "print(len(W2diffW3_matched))\n",
    "print(len(W2diffW3_matched[lowSFR_matched]))\n",
    "\n",
    "\n"
   ]
  },
  {
   "cell_type": "code",
   "execution_count": 33,
   "metadata": {
    "scrolled": true
   },
   "outputs": [
    {
     "data": {
      "image/png": "[encoded data removed]",
      "text/plain": [
       "<Figure size 432x288 with 1 Axes>"
      ]
     },
     "metadata": {
      "needs_background": "light"
     },
     "output_type": "display_data"
    }
   ],
   "source": [
    "plt.xlabel(\"W2-W3 (mag)\")\n",
    "plt.ylabel(\"Frequency\")\n",
    "plt.title(\"Histogram showing W2-W3 for all galaxies in MPL-8 WISE\")\n",
    "plt.hist(W2diffW3, bins='auto')\n",
    "plt.show()"
   ]
  },
  {
   "cell_type": "code",
   "execution_count": 34,
   "metadata": {},
   "outputs": [
    {
     "data": {
      "image/png": "[encoded data removed]",
      "text/plain": [
       "<Figure size 432x288 with 1 Axes>"
      ]
     },
     "metadata": {
      "needs_background": "light"
     },
     "output_type": "display_data"
    }
   ],
   "source": [
    "plt.xlabel(\"W2-W3 (mag)\")\n",
    "plt.ylabel(\"Frequency\")\n",
    "plt.title(\"Histogram showing W2-W3 for matched galaxies in WISE with HI\")\n",
    "plt.hist(W2diffW3_matched, bins='auto')\n",
    "plt.show()"
   ]
  },
  {
   "cell_type": "code",
   "execution_count": null,
   "metadata": {},
   "outputs": [],
   "source": []
  }
 ],
 "metadata": {
  "kernelspec": {
   "display_name": "python-3.6.8",
   "language": "python",
   "name": "python-3.6.8"
  },
  "language_info": {
   "codemirror_mode": {
    "name": "ipython",
    "version": 3
   },
   "file_extension": ".py",
   "mimetype": "text/x-python",
   "name": "python",
   "nbconvert_exporter": "python",
   "pygments_lexer": "ipython3",
   "version": "3.6.8"
  }
 },
 "nbformat": 4,
 "nbformat_minor": 2
}
