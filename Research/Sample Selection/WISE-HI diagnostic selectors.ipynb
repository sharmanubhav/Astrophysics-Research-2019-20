{
 "cells": [
  {
   "cell_type": "code",
   "execution_count": 1,
   "metadata": {},
   "outputs": [],
   "source": [
    "import numpy\n",
    "import math\n",
    "from astropy.io import fits\n",
    "from astropy.table import Table\n",
    "from matplotlib.colors import LogNorm\n",
    "from astropy.modeling import models, fitting\n",
    "\n",
    "#set up matplotlib\n",
    "import matplotlib.pyplot as plt\n",
    "%matplotlib inline"
   ]
  },
  {
   "cell_type": "code",
   "execution_count": 2,
   "metadata": {},
   "outputs": [],
   "source": [
    "HI_Pipe3D_WISE = fits.open(\"HI_Pipe3D_WISE.fits\", memmap=True)\n",
    "HI_Pipe3D_WISE_table = Table(HI_Pipe3D_WISE[1].data)"
   ]
  },
  {
   "cell_type": "code",
   "execution_count": 10,
   "metadata": {},
   "outputs": [
    {
     "name": "stdout",
     "output_type": "stream",
     "text": [
      "1384\n",
      "279\n",
      "14\n"
     ]
    }
   ],
   "source": [
    "MHI_log_initial = numpy.array(HI_Pipe3D_WISE_table['LOGMHI'])  # Stores all data of MHI log(Msun)\n",
    "SM_log_initial = numpy.array(HI_Pipe3D_WISE_table['log_Mass'])    #SM = Stellar Mass    log(Msun)\n",
    "W2_initial = numpy.array(HI_Pipe3D_WISE_table['W2mag'])  # Stores all data of W2\n",
    "W3_initial = numpy.array(HI_Pipe3D_WISE_table['W3mag'])  # Stores all data of W3\n",
    "Flagall_initial = numpy.array(HI_Pipe3D_WISE_table['conflag'])   # All Flag data \n",
    "Plateifu_initial = numpy.array(HI_Pipe3D_WISE_table['plateifu_1'])\n",
    "\n",
    "W2diffW3 = W2_initial - W3_initial \n",
    "\n",
    "lowSFR = numpy.where(W2diffW3 < 2.0)\n",
    "\n",
    "# Data for positive MHI and confused data\n",
    "MHI_log = MHI_log_initial[lowSFR]                  # HI Mass log(Msun)\n",
    "SM_log = SM_log_initial[lowSFR]                    # Steller Mass log(Msun)\n",
    "W2 = W2_initial[lowSFR]\n",
    "W3 = W3_initial[lowSFR]\n",
    "Plateifu = Plateifu_initial[lowSFR]\n",
    "Flagall = Flagall_initial[lowSFR]\n",
    "\n",
    "# positiveMHI = numpy.where(MHI_log_initial > 0)\n",
    "\n",
    "# flag = numpy.where(Flagall == 0)\n",
    "\n",
    "print(len(W2_initial))\n",
    "print(len(W2))\n",
    "print(len(W2[numpy.where((Flagall == 0) & (MHI_log > 0))]))\n"
   ]
  },
  {
   "cell_type": "code",
   "execution_count": null,
   "metadata": {},
   "outputs": [],
   "source": []
  }
 ],
 "metadata": {
  "kernelspec": {
   "display_name": "python-3.6.8",
   "language": "python",
   "name": "python-3.6.8"
  },
  "language_info": {
   "codemirror_mode": {
    "name": "ipython",
    "version": 3
   },
   "file_extension": ".py",
   "mimetype": "text/x-python",
   "name": "python",
   "nbconvert_exporter": "python",
   "pygments_lexer": "ipython3",
   "version": "3.6.8"
  }
 },
 "nbformat": 4,
 "nbformat_minor": 2
}
