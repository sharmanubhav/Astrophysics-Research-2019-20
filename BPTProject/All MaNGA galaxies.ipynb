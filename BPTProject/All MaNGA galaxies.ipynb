{
 "cells": [
  {
   "cell_type": "code",
   "execution_count": 52,
   "metadata": {},
   "outputs": [],
   "source": [
    "import numpy\n",
    "import math\n",
    "from astropy.io import fits\n",
    "from astropy.table import Table\n",
    "from matplotlib.colors import LogNorm\n",
    "from astropy.modeling import models, fitting\n",
    "\n",
    "\n",
    "#set up matplotlib\n",
    "import matplotlib.pyplot as plt\n",
    "%matplotlib inline\n",
    "plt.style.use('seaborn-darkgrid')"
   ]
  },
  {
   "cell_type": "code",
   "execution_count": 42,
   "metadata": {},
   "outputs": [],
   "source": [
    "DAP_all = fits.open(\"dapall-v2_7_1-2.4.1.fits\", memmap=True)\n",
    "DAP_table = Table(DAP_all[1].data)"
   ]
  },
  {
   "cell_type": "code",
   "execution_count": 50,
   "metadata": {},
   "outputs": [
    {
     "name": "stdout",
     "output_type": "stream",
     "text": [
      "7746\n",
      "23253\n"
     ]
    }
   ],
   "source": [
    "MNGTARG1 = numpy.array(DAP_table['MNGTARG1'])  # Stores all data of MNGTARG1\n",
    "Plateifu_all = numpy.array(DAP_table['PLATEIFU'])  # Stores platifu of all galaxies \n",
    "\n",
    "primary = [Plateifu_all[i] for i in range(len(Plateifu_all)) if MNGTARG1[i] & 2**10 != 0]\n",
    "secondary = [Plateifu_all[i] for i in range(len(Plateifu_all)) if MNGTARG1[i] & 2**11 != 0]\n",
    "tertiary = [Plateifu_all[i] for i in range(len(Plateifu_all)) if MNGTARG1[i] & 2**12 != 0]\n",
    "\n",
    "\n",
    "Plateifu1 = primary + secondary + tertiary\n",
    "\n",
    "\n",
    "Plateifu = list(set(Plateifu1))\n",
    "\n",
    "# print(len(Plateifu))\n",
    "# print(len(Plateifu1))\n",
    "\n"
   ]
  },
  {
   "cell_type": "code",
   "execution_count": null,
   "metadata": {},
   "outputs": [],
   "source": []
  },
  {
   "cell_type": "code",
   "execution_count": null,
   "metadata": {},
   "outputs": [],
   "source": []
  }
 ],
 "metadata": {
  "kernelspec": {
   "display_name": "Python 3",
   "language": "python",
   "name": "python3"
  },
  "language_info": {
   "codemirror_mode": {
    "name": "ipython",
    "version": 3
   },
   "file_extension": ".py",
   "mimetype": "text/x-python",
   "name": "python",
   "nbconvert_exporter": "python",
   "pygments_lexer": "ipython3",
   "version": "3.5.2"
  }
 },
 "nbformat": 4,
 "nbformat_minor": 2
}
