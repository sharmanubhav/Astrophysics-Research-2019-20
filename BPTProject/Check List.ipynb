{
 "cells": [
  {
   "cell_type": "code",
   "execution_count": 37,
   "metadata": {},
   "outputs": [],
   "source": [
    "import os\n",
    "from astropy.io import fits\n",
    "from astropy.table import Table\n",
    "import numpy"
   ]
  },
  {
   "cell_type": "code",
   "execution_count": 39,
   "metadata": {},
   "outputs": [],
   "source": [
    "directory1 = 'BPTimages2'\n",
    "directory2 = 'BPTimagesZooniverse'\n",
    "\n",
    "ifu_list_1 = []\n",
    "ifu_list_2 = []\n",
    "\n",
    "DAP_all = fits.open(\"dapall-v2_7_1-2.4.1.fits\", memmap=True)\n",
    "DAP_table = Table(DAP_all[1].data)\n",
    "\n",
    "MNGTARG1 = numpy.array(DAP_table['MNGTARG1'])  # Stores all data of MNGTARG1\n",
    "Plateifu_all = numpy.array(DAP_table['PLATEIFU'])  # Stores platifu of all objects\n",
    "\n",
    "\n",
    "primary_all = [Plateifu_all[i] for i in range(len(Plateifu_all)) if MNGTARG1[i] & 2**10 != 0]\n",
    "secondary_all = [Plateifu_all[i] for i in range(len(Plateifu_all)) if MNGTARG1[i] & 2**11 != 0]\n",
    "tertiary_all = [Plateifu_all[i] for i in range(len(Plateifu_all)) if MNGTARG1[i] & 2**12 != 0]\n",
    "\n",
    "\n",
    "Plateifu_galaxies = primary_all + secondary_all + tertiary_all                          # Stores plateifu of all galaxies\n",
    "\n",
    "Plateifu = list(set(Plateifu_galaxies))\n",
    "\n",
    "\n",
    "# for filename in os.listdir(directory1):\n",
    "#     ifu_list_1.append(filename[filename.find('_') + 1:filename.find('.')])\n",
    "    \n",
    "# for filename in os.listdir(directory2):\n",
    "#     ifu_list_2.append(filename[filename.find('_') + 1:filename.find('.')])\n",
    "    \n",
    "# not_in_2 = [x for x in Plateifu if x not in ifu_list_2]\n",
    "\n",
    "# print(not_in_2)\n",
    "# print(len(not_in_2))"
   ]
  },
  {
   "cell_type": "code",
   "execution_count": null,
   "metadata": {},
   "outputs": [],
   "source": []
  },
  {
   "cell_type": "code",
   "execution_count": 45,
   "metadata": {},
   "outputs": [
    {
     "name": "stdout",
     "output_type": "stream",
     "text": [
      "[ True]\n",
      "[ True]\n",
      "[ True]\n",
      "[ True]\n",
      "[ True]\n",
      "[ True]\n",
      "[ True]\n",
      "[ True]\n",
      "[ True]\n",
      "[ True]\n",
      "[ True]\n",
      "[ True]\n",
      "[ True]\n",
      "[ True]\n",
      "[ True]\n",
      "[ True]\n",
      "[ True]\n",
      "[ True]\n",
      "[ True]\n",
      "[ True]\n",
      "[ True]\n",
      "[ True]\n",
      "[ True]\n",
      "[ True]\n",
      "[ True]\n",
      "[ True]\n",
      "[ True]\n",
      "[ True]\n",
      "[ True]\n",
      "[ True]\n",
      "[ True]\n",
      "[ True]\n",
      "[ True]\n",
      "[ True]\n",
      "[ True]\n",
      "[ True]\n",
      "[ True]\n",
      "[ True]\n",
      "[ True]\n",
      "[ True]\n",
      "[ True]\n",
      "[ True]\n",
      "[ True]\n",
      "[ True]\n",
      "[ True]\n",
      "[ True]\n",
      "[ True]\n",
      "[ True]\n",
      "[ True]\n",
      "[ True]\n"
     ]
    }
   ],
   "source": [
    "arr15 = ['9025-12702', '11751-12703', '8568-12704', '11757-12704', '11014-12705', '10839-6103', '8626-9102', '11982-3701', '11863-3703', '11979-3704', '11025-6103', '11823-3703', '11019-12703', '11941-12701', '10505-6101']\n",
    "arr65 = ['8485-12701', '9025-12702', '8147-6101', '9192-6103', '8941-12705', '8933-12701', '11751-12703', '8941-12704', '8568-12704', '9500-12702', '11757-12704', '11014-12705', '10839-6103', '9050-6103', '8253-12705', '8996-9101', '8333-9101', '8149-12701', '8626-9102', '8263-12701', '11982-3701', '8615-12705', '8548-1901', '11863-3703', '9094-6103', '9508-12701', '8438-12704', '9094-12704', '8243-3704', '10001-3703', '9025-12701', '8083-9101', '11979-3704', '9863-6101', '11025-6103', '9048-9101', '10001-3702', '8332-12703', '9042-12704', '11823-3703', '11019-12703', '8613-12702', '8464-3701', '10001-1901', '10503-9101', '8715-12704', '8714-3703', '8148-3701', '9887-12705', '9485-12704', '8338-12704', '8994-9102', '8141-12705', '9024-12705', '8143-9102', '10001-3701', '10001-3704', '8603-6102', '9024-6103', '8725-12705', '11941-12701', '8623-6103', '9195-12704', '10505-6101', '9044-9102']\n",
    "\n",
    "noflag = [x for x in arr65 if x not in arr15]\n",
    "dapdone_all = numpy.array(DAP_table['DAPDONE'])\n",
    "\n",
    "for x in noflag:\n",
    "    print(dapdone_all[numpy.where(x)])\n"
   ]
  },
  {
   "cell_type": "code",
   "execution_count": null,
   "metadata": {},
   "outputs": [],
   "source": []
  }
 ],
 "metadata": {
  "kernelspec": {
   "display_name": "python-3.6.8",
   "language": "python",
   "name": "python-3.6.8"
  },
  "language_info": {
   "codemirror_mode": {
    "name": "ipython",
    "version": 3
   },
   "file_extension": ".py",
   "mimetype": "text/x-python",
   "name": "python",
   "nbconvert_exporter": "python",
   "pygments_lexer": "ipython3",
   "version": "3.6.8"
  }
 },
 "nbformat": 4,
 "nbformat_minor": 2
}
